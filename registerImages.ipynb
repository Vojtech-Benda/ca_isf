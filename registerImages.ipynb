{
 "cells": [
  {
   "cell_type": "code",
   "execution_count": 28,
   "metadata": {},
   "outputs": [],
   "source": [
    "import SimpleITK as sitk\n",
    "import numpy as np\n",
    "import os\n",
    "import matplotlib.pyplot as plt"
   ]
  },
  {
   "cell_type": "code",
   "execution_count": null,
   "metadata": {},
   "outputs": [],
   "source": [
    "def start_plot():\n",
    "    global metric_values, multires_iterations\n",
    "    \n",
    "    metric_values = []\n",
    "    multires_iterations = []\n",
    "\n",
    "# Callback invoked when the EndEvent happens, do cleanup of data and figure.\n",
    "def end_plot(patientNumber):\n",
    "    global metric_values\n",
    "    workingDir = os.getcwd()\n",
    "    textPath = os.path.join(workingDir, f\"input_files/pacient_{patientNumber}/metricValues{patientNumber}.txt\")\n",
    "    with open(textPath, 'w') as textFile:\n",
    "        [textFile.write(f\"{value}\\n\") for value in metric_values]\n",
    "\n",
    "    # Close figure, we don't want to get a duplicate of the plot latter on.\n",
    "    plt.close()\n",
    "\n",
    "def plot_values(registration_method):\n",
    "    global metric_values, multires_iterations\n",
    "    \n",
    "    metric_values.append(registration_method.GetMetricValue())                                       \n",
    "    # Clear the output area (wait=True, to reduce flickering), and plot current data\n",
    "    \"\"\"\n",
    "    clear_output(wait=True)\n",
    "    # Plot the similarity metric values\n",
    "    plt.plot(metric_values, 'r')\n",
    "    plt.plot(multires_iterations, \n",
    "             [metric_values[index] for index in multires_iterations],\n",
    "             \"b*\",)\n",
    "    plt.xlabel('Iteration Number',fontsize=12)\n",
    "    plt.ylabel('Metric Value',fontsize=12)\n",
    "    plt.show()\n",
    "    \"\"\"\n",
    "\n",
    "def update_multires_iterations():\n",
    "    global metric_values, multires_iterations\n",
    "    multires_iterations.append(len(metric_values))"
   ]
  },
  {
   "cell_type": "code",
   "execution_count": 6,
   "metadata": {},
   "outputs": [
    {
     "data": {
      "text/plain": [
       "('c:\\\\Users\\\\vojte\\\\Desktop\\\\skola\\\\DP\\\\input_files/pacient_01/pacient01Preop.mha',\n",
       " 'c:\\\\Users\\\\vojte\\\\Desktop\\\\skola\\\\DP\\\\input_files/pacient_01/pacient01Intraop.mha')"
      ]
     },
     "execution_count": 6,
     "metadata": {},
     "output_type": "execute_result"
    }
   ],
   "source": [
    "baseDir = os.getcwd()\n",
    "patientNumber = \"01\"\n",
    "\n",
    "preopDrrPath = os.path.join(baseDir, f\"input_files/pacient_{patientNumber}/pacient{patientNumber}Preop.mha\")\n",
    "intraopDrrPath =  os.path.join(baseDir, f\"input_files/pacient_{patientNumber}/pacient{patientNumber}Intraop.mha\")\n",
    "\n",
    "preopImage = sitk.ReadImage(preopDrrPath, sitk.sitkFloat32)\n",
    "intraopImage = sitk.ReadImage(intraopDrrPath, sitk.sitkFloat32)\n",
    "\n",
    "intraopImageInverted = sitk.InvertIntensity(intraopImage, maximum=1)\n",
    "print(f\"moving: {preopImage.GetSize()}, fixed: {intraopImageInverted.GetSize()}\")\n",
    "\n",
    "fixedImage = intraopImageInverted\n",
    "movingImage = preopImage[:, :, 0]\n",
    "movingImage.SetOrigin(fixedImage.GetOrigin())\n",
    "movingImage.SetSpacing(fixedImage.GetSpacing())\n",
    "print(f\"Fixed image, spacing: {fixedImage.GetSpacing()}, size: {fixedImage.GetSize()}, direction: {fixedImage.GetDirection()}, origin: {fixedImage.GetOrigin()}\")\n",
    "print(f\"Moving image, spacing: {movingImage.GetSpacing()}, size: {movingImage.GetSize()}, direction: {movingImage.GetDirection()}, origin: {movingImage.GetOrigin()}\")\n",
    "plt.imshow(sitk.GetArrayViewFromImage(fixedImage), cmap=\"gray\")\n",
    "plt.imshow(sitk.GetArrayViewFromImage(movingImage), cmap=\"gray\", alpha=0.5)\n",
    "plt.axis(\"off\")\n",
    "plt.show()"
   ]
  },
  {
   "cell_type": "code",
   "execution_count": null,
   "metadata": {},
   "outputs": [],
   "source": [
    "initialTransform = sitk.CenteredTransformInitializer(fixedImage, movingImage,\n",
    "                                                     sitk.AffineTransform(2))\n",
    "registration = sitk.ImageRegistrationMethod()\n",
    "registration.SetMetricAsMattesMutualInformation()\n",
    "registration.SetOptimizerScalesFromPhysicalShift()\n",
    "registration.SetOptimizerAsGradientDescent(learningRate=1.0,\n",
    "                                           numberOfIterations=200,\n",
    "                                           convergenceMinimumValue=1e-5,\n",
    "                                           convergenceWindowSize=5)\n",
    "registration.SetInitialTransform(initialTransform)\n",
    "registration.SetInterpolator(sitk.sitkLinear)\n",
    "\n",
    "#registration.SetShrinkFactorsPerLevel(shrinkFactors=[4, 2, 1])\n",
    "#registration.SetSmoothingSigmasPerLevel(smoothingSigmas=[2, 1, 0])\n",
    "#registration.SmoothingSigmasAreSpecifiedInPhysicalUnitsOn()\n",
    "\n",
    "registration.AddCommand(sitk.sitkStartEvent, start_plot)\n",
    "registration.AddCommand(sitk.sitkEndEvent, end_plot(patientNumber))\n",
    "#registration.AddCommand(sitk.sitkMultiResolutionIterationEvent, update_multires_iterations)\n",
    "registration.AddCommand(sitk.sitkIterationEvent, lambda: plot_values(registration))\n",
    "outTransform = registration.Execute(fixedImage, movingImage)\n",
    "print(f\"Optimizer stop condition: {registration.GetOptimizerStopConditionDescription()}\")\n",
    "print(f\" Iteration: {registration.GetOptimizerIteration()}\")\n",
    "print(f\" Metric value: {registration.GetMetricValue()}\")\n",
    "\n",
    "plt.plot(range(len(metric_values)), metric_values)\n",
    "plt.xlabel(\"Iterace\")\n",
    "plt.ylabel(\"Mutual information\")\n",
    "plt.imshow()"
   ]
  },
  {
   "cell_type": "code",
   "execution_count": null,
   "metadata": {},
   "outputs": [],
   "source": [
    "movingImageResampled = sitk.Resample(movingImage, fixedImage, outTransform, sitk.sitkLinear, 0.0, movingImage.GetPixelID())\n",
    "\n",
    "plt.imshow(sitk.GetArrayViewFromImage(fixedImage), cmap=\"gray\")\n",
    "plt.imshow(sitk.GetArrayViewFromImage(movingImageResampled), cmap=\"gray\", alpha=0.5)\n",
    "plt.axis(\"off\")\n",
    "plt.show()"
   ]
  },
  {
   "cell_type": "code",
   "execution_count": null,
   "metadata": {},
   "outputs": [],
   "source": [
    "movingImageResampled255 = sitk.Cast(sitk.IntensityWindowing(movingImageResampled, \n",
    "                                                            windowMinimum=0., windowMaximum=32767., \n",
    "                                                            outputMinimum=0., outputMaximum=255.), \n",
    "                                                            sitk.sitkUInt8)\n",
    "fixedImage255 = sitk.Cast(sitk.IntensityWindowing(sitk.RescaleIntensity(fixedImage, 0, 32767), \n",
    "                                                            windowMinimum=0., windowMaximum=32767., \n",
    "                                                            outputMinimum=0., outputMaximum=255.), \n",
    "                                                            sitk.sitkUInt8)\n",
    "plt.imshow(sitk.GetArrayViewFromImage(sitk.CheckerBoard(movingImageResampled255, fixedImage255, [6, 6])), cmap=\"gray\")\n",
    "plt.axis(\"off\")\n",
    "plt.show()"
   ]
  }
 ],
 "metadata": {
  "kernelspec": {
   "display_name": "Python 3",
   "language": "python",
   "name": "python3"
  },
  "language_info": {
   "codemirror_mode": {
    "name": "ipython",
    "version": 3
   },
   "file_extension": ".py",
   "mimetype": "text/x-python",
   "name": "python",
   "nbconvert_exporter": "python",
   "pygments_lexer": "ipython3",
   "version": "3.11.2"
  }
 },
 "nbformat": 4,
 "nbformat_minor": 2
}
