{
 "cells": [
  {
   "cell_type": "code",
   "execution_count": 10,
   "id": "126e14b3e35c5f44",
   "metadata": {
    "ExecuteTime": {
     "end_time": "2024-03-13T10:34:48.001992Z",
     "start_time": "2024-03-13T10:34:47.312800500Z"
    },
    "collapsed": false
   },
   "outputs": [],
   "source": [
    "import numpy as np\n",
    "import pandas as pd\n",
    "pd.set_option(\"display.precision\", 3, \"styler.format.decimal\", \",\")"
   ]
  },
  {
   "cell_type": "code",
   "execution_count": 6,
   "id": "initial_id",
   "metadata": {
    "ExecuteTime": {
     "end_time": "2024-03-13T10:38:15.334947Z",
     "start_time": "2024-03-13T10:38:15.278363300Z"
    },
    "collapsed": true
   },
   "outputs": [],
   "source": [
    "patNumbers = [\"01\", \"02\", \"03\", \"04\", \"05\", \"06\", \"07\", \"08\", \"09\", \"10\", \"11\", \"12\"]\n",
    "fixedPointsPath = \"input_files\\\\pacient_09\\\\registration\\\\pacient09IntraopPointsAP.csv\"\n",
    "movingPointsPath = \"input_files\\\\pacient_09\\\\registration\\\\pacient09PreopPointsAP.csv\"\n",
    "fixedPointsTable = []\n",
    "movingPointsTable = []\n",
    "with open(fixedPointsPath, \"r\") as file:\n",
    "    [fixedPointsTable.append(row.split(\",\")[1:4]) for row in file.readlines()[1:]]\n",
    "    \n",
    "with open(movingPointsPath, \"r\") as file:\n",
    "    [movingPointsTable.append(row.split(\",\")[1:4]) for row in file.readlines()[1:]]\n",
    "\n",
    "fixedPointsList = np.array([[float(value) for value in values] for values in fixedPointsTable])\n",
    "movingPointsList = np.array([[float(value) for value in values] for values in movingPointsTable])\n"
   ]
  },
  {
   "cell_type": "code",
   "execution_count": 36,
   "id": "b6c3bf9258ed7846",
   "metadata": {
    "ExecuteTime": {
     "end_time": "2024-03-13T10:38:15.917425600Z",
     "start_time": "2024-03-13T10:38:15.905340100Z"
    },
    "collapsed": false
   },
   "outputs": [
    {
     "data": {
      "text/html": [
       "<div>\n",
       "<style scoped>\n",
       "    .dataframe tbody tr th:only-of-type {\n",
       "        vertical-align: middle;\n",
       "    }\n",
       "\n",
       "    .dataframe tbody tr th {\n",
       "        vertical-align: top;\n",
       "    }\n",
       "\n",
       "    .dataframe thead th {\n",
       "        text-align: right;\n",
       "    }\n",
       "</style>\n",
       "<table border=\"1\" class=\"dataframe\">\n",
       "  <thead>\n",
       "    <tr style=\"text-align: right;\">\n",
       "      <th>Číslo bodu</th>\n",
       "      <th>1</th>\n",
       "      <th>2</th>\n",
       "      <th>3</th>\n",
       "      <th>4</th>\n",
       "      <th>5</th>\n",
       "      <th>6</th>\n",
       "      <th>7</th>\n",
       "      <th>8</th>\n",
       "      <th>9</th>\n",
       "      <th>10</th>\n",
       "    </tr>\n",
       "  </thead>\n",
       "  <tbody>\n",
       "    <tr>\n",
       "      <th>X-ový směr</th>\n",
       "      <td>157.395</td>\n",
       "      <td>815.849</td>\n",
       "      <td>482.143</td>\n",
       "      <td>500.060</td>\n",
       "      <td>384.718</td>\n",
       "      <td>608.683</td>\n",
       "      <td>229.063</td>\n",
       "      <td>752.020</td>\n",
       "      <td>175.312</td>\n",
       "      <td>794.573</td>\n",
       "    </tr>\n",
       "    <tr>\n",
       "      <th>Y-ový směr</th>\n",
       "      <td>692.669</td>\n",
       "      <td>662.434</td>\n",
       "      <td>790.094</td>\n",
       "      <td>788.974</td>\n",
       "      <td>506.779</td>\n",
       "      <td>496.700</td>\n",
       "      <td>640.038</td>\n",
       "      <td>631.079</td>\n",
       "      <td>571.728</td>\n",
       "      <td>571.728</td>\n",
       "    </tr>\n",
       "  </tbody>\n",
       "</table>\n",
       "</div>"
      ],
      "text/plain": [
       "Číslo bodu       1        2        3        4        5        6        7   \\\n",
       "X-ový směr  157.395  815.849  482.143  500.060  384.718  608.683  229.063   \n",
       "Y-ový směr  692.669  662.434  790.094  788.974  506.779  496.700  640.038   \n",
       "\n",
       "Číslo bodu       8        9        10  \n",
       "X-ový směr  752.020  175.312  794.573  \n",
       "Y-ový směr  631.079  571.728  571.728  "
      ]
     },
     "execution_count": 36,
     "metadata": {},
     "output_type": "execute_result"
    }
   ],
   "source": [
    "intraopPointsDf = pd.DataFrame(fixedPointsList[:, 0:2].T, columns=pd.Index(np.arange(1, 10 + 1), name=\"Číslo bodu\"),\n",
    "                               index=pd.Index([\"X-ový směr\", \"Y-ový směr\"]))\n",
    "intraopPointsDf"
   ]
  },
  {
   "cell_type": "code",
   "execution_count": 43,
   "id": "984f56a4",
   "metadata": {},
   "outputs": [
    {
     "name": "stdout",
     "output_type": "stream",
     "text": [
      "\\begin{tabular}{%.3f}\n",
      "Číslo bodu & 1 & 2 & 3 & 4 & 5 & 6 & 7 & 8 & 9 & 10 \\\\\n",
      "X-ový směr & 157,395000 & 815,849000 & 482,143000 & 500,060000 & 384,718000 & 608,683000 & 229,063000 & 752,020000 & 175,312000 & 794,573000 \\\\\n",
      "Y-ový směr & 692,669000 & 662,434000 & 790,094000 & 788,974000 & 506,779000 & 496,700000 & 640,038000 & 631,079000 & 571,728000 & 571,728000 \\\\\n",
      "\\end{tabular}\n",
      "\n"
     ]
    }
   ],
   "source": [
    "print(intraopPointsDf.style.to_latex(column_format=\"%.3f\"))"
   ]
  },
  {
   "cell_type": "code",
   "execution_count": null,
   "id": "6d2853c0",
   "metadata": {},
   "outputs": [],
   "source": []
  }
 ],
 "metadata": {
  "kernelspec": {
   "display_name": "Python 3",
   "language": "python",
   "name": "python3"
  },
  "language_info": {
   "codemirror_mode": {
    "name": "ipython",
    "version": 3
   },
   "file_extension": ".py",
   "mimetype": "text/x-python",
   "name": "python",
   "nbconvert_exporter": "python",
   "pygments_lexer": "ipython3",
   "version": "3.11.2"
  }
 },
 "nbformat": 4,
 "nbformat_minor": 5
}
