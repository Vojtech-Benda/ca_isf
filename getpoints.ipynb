{
 "cells": [
  {
   "cell_type": "code",
   "execution_count": 1,
   "outputs": [],
   "source": [
    "import numpy as np"
   ],
   "metadata": {
    "collapsed": false,
    "ExecuteTime": {
     "end_time": "2024-03-13T10:34:48.001992Z",
     "start_time": "2024-03-13T10:34:47.312800500Z"
    }
   },
   "id": "126e14b3e35c5f44"
  },
  {
   "cell_type": "code",
   "execution_count": 7,
   "id": "initial_id",
   "metadata": {
    "collapsed": true,
    "ExecuteTime": {
     "end_time": "2024-03-13T10:38:15.334947Z",
     "start_time": "2024-03-13T10:38:15.278363300Z"
    }
   },
   "outputs": [],
   "source": [
    "fixedPointsPath = \"input_files\\\\pacient_09\\\\registration\\\\pacient09FixedPointsAP.csv\"\n",
    "movingPointsPath = \"input_files\\\\pacient_09\\\\registration\\\\pacient09MovingPointsAP.csv\"\n",
    "fixedPointsTable = []\n",
    "movingPointsTable = []\n",
    "with open(fixedPointsPath, \"r\") as file:\n",
    "    [fixedPointsTable.append(row.split(\",\")[1:4]) for row in file.readlines()[1:]]\n",
    "    \n",
    "with open(movingPointsPath, \"r\") as file:\n",
    "    [movingPointsTable.append(row.split(\",\")[1:4]) for row in file.readlines()[1:]]\n",
    "\n",
    "fixedPointsList = [[float(value) for value in values] for values in fixedPointsTable]\n",
    "movingPointsList = [[float(value) for value in values] for values in movingPointsTable]\n"
   ]
  },
  {
   "cell_type": "code",
   "execution_count": 8,
   "outputs": [
    {
     "data": {
      "text/plain": "[[117.641, 506.779, 0.125],\n [862.322, 507.899, 0.125],\n [283.375, 757.619, 0.125],\n [697.708, 757.619, 0.125],\n [481.583, 722.904, 0.125],\n [505.099, 721.784, 0.125],\n [337.126, 457.507, 0.125],\n [671.952, 454.147, 0.125],\n [297.932, 197.708, 0.125],\n [713.386, 196.588, 0.125]]"
     },
     "execution_count": 8,
     "metadata": {},
     "output_type": "execute_result"
    }
   ],
   "source": [
    "fixedPointsList"
   ],
   "metadata": {
    "collapsed": false,
    "ExecuteTime": {
     "end_time": "2024-03-13T10:38:15.917425600Z",
     "start_time": "2024-03-13T10:38:15.905340100Z"
    }
   },
   "id": "b6c3bf9258ed7846"
  },
  {
   "cell_type": "code",
   "execution_count": 64,
   "outputs": [
    {
     "data": {
      "text/plain": "array([107.814, 864.254, 284.629, 699.149, 482.521, 501.256, 333.809,\n       671.046, 301.022, 720.226])"
     },
     "execution_count": 64,
     "metadata": {},
     "output_type": "execute_result"
    }
   ],
   "source": [
    "list(np.array(fixedPointsList).T)[0]"
   ],
   "metadata": {
    "collapsed": false,
    "ExecuteTime": {
     "end_time": "2024-03-11T20:12:58.577502700Z",
     "start_time": "2024-03-11T20:12:58.536564400Z"
    }
   },
   "id": "8d8b2e069aeae4e3"
  },
  {
   "cell_type": "code",
   "execution_count": 15,
   "outputs": [
    {
     "data": {
      "text/plain": "array([[1.17641e+02, 5.06779e+02, 1.25000e-01],\n       [8.62322e+02, 5.07899e+02, 1.25000e-01],\n       [2.83375e+02, 7.57619e+02, 1.25000e-01],\n       [6.97708e+02, 7.57619e+02, 1.25000e-01],\n       [4.81583e+02, 7.22904e+02, 1.25000e-01],\n       [5.05099e+02, 7.21784e+02, 1.25000e-01],\n       [3.37126e+02, 4.57507e+02, 1.25000e-01],\n       [6.71952e+02, 4.54147e+02, 1.25000e-01],\n       [2.97932e+02, 1.97708e+02, 1.25000e-01],\n       [7.13386e+02, 1.96588e+02, 1.25000e-01]])"
     },
     "execution_count": 15,
     "metadata": {},
     "output_type": "execute_result"
    }
   ],
   "source": [
    "np.array(fixedPointsList)"
   ],
   "metadata": {
    "collapsed": false,
    "ExecuteTime": {
     "end_time": "2024-03-13T10:43:08.115973700Z",
     "start_time": "2024-03-13T10:43:08.094857700Z"
    }
   },
   "id": "473efdb55cdb98c3"
  },
  {
   "cell_type": "code",
   "execution_count": null,
   "outputs": [],
   "source": [],
   "metadata": {
    "collapsed": false
   },
   "id": "a4a6472422069684"
  }
 ],
 "metadata": {
  "kernelspec": {
   "display_name": "Python 3",
   "language": "python",
   "name": "python3"
  },
  "language_info": {
   "codemirror_mode": {
    "name": "ipython",
    "version": 2
   },
   "file_extension": ".py",
   "mimetype": "text/x-python",
   "name": "python",
   "nbconvert_exporter": "python",
   "pygments_lexer": "ipython2",
   "version": "2.7.6"
  }
 },
 "nbformat": 4,
 "nbformat_minor": 5
}
