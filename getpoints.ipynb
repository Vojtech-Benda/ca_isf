{
 "cells": [
  {
   "cell_type": "code",
   "execution_count": 63,
   "outputs": [],
   "source": [
    "import numpy as np"
   ],
   "metadata": {
    "collapsed": false,
    "ExecuteTime": {
     "end_time": "2024-03-11T20:12:28.961360500Z",
     "start_time": "2024-03-11T20:12:28.776969800Z"
    }
   },
   "id": "126e14b3e35c5f44"
  },
  {
   "cell_type": "code",
   "execution_count": 61,
   "id": "initial_id",
   "metadata": {
    "collapsed": true,
    "ExecuteTime": {
     "end_time": "2024-03-11T19:49:01.916382900Z",
     "start_time": "2024-03-11T19:49:01.886852500Z"
    }
   },
   "outputs": [],
   "source": [
    "fixedPointsPath = \"D:\\\\skola\\\\DP\\\\dp_source\\\\input_files\\\\pacient_09\\\\registration\\\\pacient09FixedPointsAP.csv\"\n",
    "movingPointsPath = \"D:\\\\skola\\\\DP\\\\dp_source\\\\input_files\\\\pacient_09\\\\registration\\\\pacient09MovingPointsAP.csv\"\n",
    "fixedPointsTable = []\n",
    "movingPointsTable = []\n",
    "with open(fixedPointsPath, \"r\") as file:\n",
    "    [fixedPointsTable.append(row.split(\",\")[1:4]) for row in file.readlines()[1:]]\n",
    "    \n",
    "with open(movingPointsPath, \"r\") as file:\n",
    "    [movingPointsTable.append(row.split(\",\")[1:4]) for row in file.readlines()[1:]]\n",
    "\n",
    "fixedPointsList = [[float(value) for value in values] for values in fixedPointsTable]\n",
    "movingPointsList = [[float(value) for value in values] for values in movingPointsTable]\n",
    "\n",
    "for sublist in fixedPointsList:\n",
    "    sublist[-1] = -0.375\n",
    "    \n",
    "for sublist in movingPointsList:\n",
    "    sublist[-1] = -0.375\n",
    "    \n",
    "for sublist in movingPointsList:\n",
    "    sublist[0] = \n"
   ]
  },
  {
   "cell_type": "code",
   "execution_count": 62,
   "outputs": [
    {
     "data": {
      "text/plain": "([[107.814, 501.842, -0.375],\n  [864.254, 506.526, -0.375],\n  [284.629, 760.624, -0.375],\n  [699.149, 753.598, -0.375],\n  [482.521, 719.641, -0.375],\n  [501.256, 720.811, -0.375],\n  [333.809, 458.516, -0.375],\n  [671.046, 453.833, -0.375],\n  [301.022, 199.734, -0.375],\n  [720.226, 196.221, -0.375]],\n [[-140.034, -16.9358, -0.375],\n  [171.31, -15.4989, -0.375],\n  [-68.6646, 91.7952, -0.375],\n  [106.167, 92.7532, -0.375],\n  [97.5453, -37.5324, -0.375],\n  [-49.505, -36.0955, -0.375],\n  [15.6378, 73.1145, -0.375],\n  [23.7807, 73.1145, -0.375],\n  [-59.0848, -141.474, -0.375],\n  [113.352, -143.868, -0.375],\n  [113.352, -143.868, -0.375]])"
     },
     "execution_count": 62,
     "metadata": {},
     "output_type": "execute_result"
    }
   ],
   "source": [
    "fixedPointsList, movingPointsList"
   ],
   "metadata": {
    "collapsed": false,
    "ExecuteTime": {
     "end_time": "2024-03-11T19:49:02.411622700Z",
     "start_time": "2024-03-11T19:49:02.400391100Z"
    }
   },
   "id": "b6c3bf9258ed7846"
  },
  {
   "cell_type": "code",
   "execution_count": 64,
   "outputs": [
    {
     "data": {
      "text/plain": "array([107.814, 864.254, 284.629, 699.149, 482.521, 501.256, 333.809,\n       671.046, 301.022, 720.226])"
     },
     "execution_count": 64,
     "metadata": {},
     "output_type": "execute_result"
    }
   ],
   "source": [
    "list(np.array(fixedPointsList).T)[0]"
   ],
   "metadata": {
    "collapsed": false,
    "ExecuteTime": {
     "end_time": "2024-03-11T20:12:58.577502700Z",
     "start_time": "2024-03-11T20:12:58.536564400Z"
    }
   },
   "id": "8d8b2e069aeae4e3"
  },
  {
   "cell_type": "code",
   "execution_count": null,
   "outputs": [],
   "source": [],
   "metadata": {
    "collapsed": false
   },
   "id": "a4a6472422069684"
  }
 ],
 "metadata": {
  "kernelspec": {
   "display_name": "Python 3",
   "language": "python",
   "name": "python3"
  },
  "language_info": {
   "codemirror_mode": {
    "name": "ipython",
    "version": 2
   },
   "file_extension": ".py",
   "mimetype": "text/x-python",
   "name": "python",
   "nbconvert_exporter": "python",
   "pygments_lexer": "ipython2",
   "version": "2.7.6"
  }
 },
 "nbformat": 4,
 "nbformat_minor": 5
}
