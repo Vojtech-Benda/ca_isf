{
 "cells": [
  {
   "cell_type": "code",
   "execution_count": 6,
   "id": "initial_id",
   "metadata": {
    "collapsed": true,
    "ExecuteTime": {
     "end_time": "2024-04-07T14:28:24.784849900Z",
     "start_time": "2024-04-07T14:28:24.779863100Z"
    }
   },
   "outputs": [],
   "source": [
    "import numpy as np\n",
    "import os\n",
    "import pandas as pd"
   ]
  },
  {
   "cell_type": "code",
   "execution_count": 7,
   "outputs": [],
   "source": [
    "saveState = False\n",
    "patNumbers = [\"01\", \"02\", \"03\", \"04\", \"05\", \"06\", \"07\", \"08\", \"09\", \"10\", \"11\", \"12\"]\n",
    "pd.set_option(\"display.precision\", 3, \"styler.format.decimal\", \",\")\n",
    "\n",
    "medianErrorsStages = np.zeros(shape=(12, 5)) # shape=(patients, reg_stages)\n",
    "runTime = np.zeros(shape=(12, 3))\n",
    "lastIterMetrics = np.zeros(shape=(12, 3))\n",
    "\n",
    "for idx, num in enumerate(patNumbers):\n",
    "    errorPath = f\"input_files\\\\pacient_{num}\\\\registration\\\\\"\n",
    "\n",
    "    preFile = np.load(f\"{errorPath}gradient\\\\pacient{num}PreErrors.npz\")\n",
    "    initialFile = np.load(f\"{errorPath}gradient\\\\pacient{num}InitialErrors.npz\")\n",
    "    gradFile = np.load(f\"{errorPath}gradient\\\\pacient{num}RegErrors.npz\")\n",
    "    gradLineFile = np.load(f\"{errorPath}gradientline\\\\pacient{num}RegErrors.npz\")\n",
    "    gradLbfFile = np.load(f\"{errorPath}gradientlbf\\\\pacient{num}RegErrors.npz\")\n",
    "    \n",
    "    gradRegFile = np.load(f\"{errorPath}gradient\\\\pacient{num}RegParams.npz\")\n",
    "    gradLineRegFile = np.load(f\"{errorPath}gradientline\\\\pacient{num}RegParams.npz\")\n",
    "    gradLbfRegFile = np.load(f\"{errorPath}gradientlbf\\\\pacient{num}RegParams.npz\")\n",
    "\n",
    "    # median errors per patient and registration stage\n",
    "    medianErrorsStages[idx, 0] = preFile[\"preMedians\"] # before initialization\n",
    "    medianErrorsStages[idx, 1] = initialFile[\"initialMedians\"] # after initialization\n",
    "    medianErrorsStages[idx, 2] = gradFile[\"regMedians\"][-1] # gradient \n",
    "    medianErrorsStages[idx, 3] = gradLineFile[\"regMedians\"][-1] # gradient line \n",
    "    medianErrorsStages[idx, 4] = gradLbfFile[\"regMedians\"][-1] # lbfgs\n",
    "    \n",
    "    lastIterMetrics[idx, 0] = gradRegFile[\"metricValues\"][-1]\n",
    "    lastIterMetrics[idx, 1] = gradLineRegFile[\"metricValues\"][-1]\n",
    "    lastIterMetrics[idx, 2] = gradLbfRegFile[\"metricValues\"][-1]\n",
    "    \n",
    "    runTime[idx, 0] = gradRegFile[\"execTime\"]\n",
    "    runTime[idx, 1] = gradLineRegFile[\"execTime\"]\n",
    "    runTime[idx, 2] = gradLbfRegFile[\"execTime\"]\n",
    "    \n",
    "    del(preFile, initialFile, gradFile, gradLineFile, gradLbfFile, gradRegFile,\n",
    "        gradLineRegFile, gradLbfRegFile)\n",
    "    \n",
    "\n",
    "regStages = [\"Před inicializací\", \"Po inicializaci\", \"Gradientní\\nsestup\", \n",
    "             \"Gradientní sestup\\nse zl. řezem\", \"BFGS s\\nomezenou pamětí\"]\n",
    "regCols = [\"pre\", \"initial\", \"grad\", \n",
    "             \"grad_line\", \"grad_lbf\"]\n",
    "regLabels = [\"Před inicializací\", \"Po inicializaci\", \"Gradientní sestup\", \n",
    "             \"Gradientní sestup se zl. řezem\", \"BFGS s omezenou pamětí\"]"
   ],
   "metadata": {
    "collapsed": false,
    "ExecuteTime": {
     "end_time": "2024-04-07T14:28:25.081608800Z",
     "start_time": "2024-04-07T14:28:25.012390900Z"
    }
   },
   "id": "8865a53a0dfedd20"
  },
  {
   "cell_type": "code",
   "execution_count": 8,
   "outputs": [
    {
     "name": "stdout",
     "output_type": "stream",
     "text": [
      "\\begin{tabular}{lrrrrrrrrrrrr}\n",
      "Číslo pacienta & 1 & 2 & 3 & 4 & 5 & 6 & 7 & 8 & 9 & 10 & 11 & 12 \\\\\n",
      "Před inicializací & 95,204770 & 99,369106 & 59,651445 & 77,284026 & 84,555336 & 125,291004 & 51,334492 & 25,338598 & 117,979494 & 30,762199 & 44,756299 & 115,841176 \\\\\n",
      "Po inicializaci & 102,126586 & 79,781340 & 23,645868 & 83,098711 & 20,322598 & 60,211795 & 33,765366 & 14,480076 & 62,515038 & 26,047366 & 32,823615 & 42,758684 \\\\\n",
      "Gradientní sestup & 12,518687 & 22,750668 & 6,505861 & 11,694710 & 10,801063 & 8,984546 & 6,824955 & 4,891915 & 4,121163 & 15,855933 & 18,469326 & 4,425060 \\\\\n",
      "Gradientní sestup se zl. řezem & 12,818835 & 22,735113 & 5,527218 & 11,947224 & 11,107896 & 9,397009 & 6,148300 & 6,140963 & 3,658141 & 14,893941 & 19,661171 & 4,132670 \\\\\n",
      "BFGS s omezenou pamětí & 10,614324 & 22,112244 & 5,308194 & 12,163014 & 11,173012 & 7,101618 & 5,968503 & 6,032467 & 3,596933 & 16,290659 & 20,742189 & 4,345826 \\\\\n",
      "\\end{tabular}\n"
     ]
    },
    {
     "data": {
      "text/plain": "Číslo pacienta                       1       2       3       4       5   \\\nPřed inicializací                95.205  99.369  59.651  77.284  84.555   \nPo inicializaci                 102.127  79.781  23.646  83.099  20.323   \nGradientní sestup                12.519  22.751   6.506  11.695  10.801   \nGradientní sestup se zl. řezem   12.819  22.735   5.527  11.947  11.108   \nBFGS s omezenou pamětí           10.614  22.112   5.308  12.163  11.173   \n\nČíslo pacienta                       6       7       8        9       10  \\\nPřed inicializací               125.291  51.334  25.339  117.979  30.762   \nPo inicializaci                  60.212  33.765  14.480   62.515  26.047   \nGradientní sestup                 8.985   6.825   4.892    4.121  15.856   \nGradientní sestup se zl. řezem    9.397   6.148   6.141    3.658  14.894   \nBFGS s omezenou pamětí            7.102   5.969   6.032    3.597  16.291   \n\nČíslo pacienta                      11       12  \nPřed inicializací               44.756  115.841  \nPo inicializaci                 32.824   42.759  \nGradientní sestup               18.469    4.425  \nGradientní sestup se zl. řezem  19.661    4.133  \nBFGS s omezenou pamětí          20.742    4.346  ",
      "text/html": "<div>\n<style scoped>\n    .dataframe tbody tr th:only-of-type {\n        vertical-align: middle;\n    }\n\n    .dataframe tbody tr th {\n        vertical-align: top;\n    }\n\n    .dataframe thead th {\n        text-align: right;\n    }\n</style>\n<table border=\"1\" class=\"dataframe\">\n  <thead>\n    <tr style=\"text-align: right;\">\n      <th>Číslo pacienta</th>\n      <th>1</th>\n      <th>2</th>\n      <th>3</th>\n      <th>4</th>\n      <th>5</th>\n      <th>6</th>\n      <th>7</th>\n      <th>8</th>\n      <th>9</th>\n      <th>10</th>\n      <th>11</th>\n      <th>12</th>\n    </tr>\n  </thead>\n  <tbody>\n    <tr>\n      <th>Před inicializací</th>\n      <td>95.205</td>\n      <td>99.369</td>\n      <td>59.651</td>\n      <td>77.284</td>\n      <td>84.555</td>\n      <td>125.291</td>\n      <td>51.334</td>\n      <td>25.339</td>\n      <td>117.979</td>\n      <td>30.762</td>\n      <td>44.756</td>\n      <td>115.841</td>\n    </tr>\n    <tr>\n      <th>Po inicializaci</th>\n      <td>102.127</td>\n      <td>79.781</td>\n      <td>23.646</td>\n      <td>83.099</td>\n      <td>20.323</td>\n      <td>60.212</td>\n      <td>33.765</td>\n      <td>14.480</td>\n      <td>62.515</td>\n      <td>26.047</td>\n      <td>32.824</td>\n      <td>42.759</td>\n    </tr>\n    <tr>\n      <th>Gradientní sestup</th>\n      <td>12.519</td>\n      <td>22.751</td>\n      <td>6.506</td>\n      <td>11.695</td>\n      <td>10.801</td>\n      <td>8.985</td>\n      <td>6.825</td>\n      <td>4.892</td>\n      <td>4.121</td>\n      <td>15.856</td>\n      <td>18.469</td>\n      <td>4.425</td>\n    </tr>\n    <tr>\n      <th>Gradientní sestup se zl. řezem</th>\n      <td>12.819</td>\n      <td>22.735</td>\n      <td>5.527</td>\n      <td>11.947</td>\n      <td>11.108</td>\n      <td>9.397</td>\n      <td>6.148</td>\n      <td>6.141</td>\n      <td>3.658</td>\n      <td>14.894</td>\n      <td>19.661</td>\n      <td>4.133</td>\n    </tr>\n    <tr>\n      <th>BFGS s omezenou pamětí</th>\n      <td>10.614</td>\n      <td>22.112</td>\n      <td>5.308</td>\n      <td>12.163</td>\n      <td>11.173</td>\n      <td>7.102</td>\n      <td>5.969</td>\n      <td>6.032</td>\n      <td>3.597</td>\n      <td>16.291</td>\n      <td>20.742</td>\n      <td>4.346</td>\n    </tr>\n  </tbody>\n</table>\n</div>"
     },
     "execution_count": 8,
     "metadata": {},
     "output_type": "execute_result"
    }
   ],
   "source": [
    "initialLastmedianErrorsDf = pd.DataFrame(medianErrorsStages, columns=pd.Index(regLabels),\n",
    "                                       index=pd.Index(range(1, medianErrorsStages.shape[0] + 1), name=\"Číslo pacienta\"))\n",
    "print(initialLastmedianErrorsDf.T.style.to_latex())\n",
    "initialLastmedianErrorsDf.T"
   ],
   "metadata": {
    "collapsed": false,
    "ExecuteTime": {
     "end_time": "2024-04-07T14:28:25.276894900Z",
     "start_time": "2024-04-07T14:28:25.247139200Z"
    }
   },
   "id": "3ba37cf2b26f2dae"
  },
  {
   "cell_type": "code",
   "execution_count": 9,
   "outputs": [
    {
     "name": "stdout",
     "output_type": "stream",
     "text": [
      "\\begin{tabular}{lrrrrrrrrrrrr}\n",
      "Číslo pacienta & 1 & 2 & 3 & 4 & 5 & 6 & 7 & 8 & 9 & 10 & 11 & 12 \\\\\n",
      "Gradientní sestup & -0,642979 & -0,456110 & -0,654532 & -0,545208 & -0,622273 & -0,642077 & -0,668522 & -0,625254 & -0,693658 & -0,625783 & -0,619464 & -0,662384 \\\\\n",
      "Gradientní sestup se zl. řezem & -0,643686 & -0,456174 & -0,663128 & -0,555299 & -0,628668 & -0,644896 & -0,675744 & -0,632153 & -0,703064 & -0,632315 & -0,624210 & -0,670259 \\\\\n",
      "BFGS s omezenou pamětí & -0,642476 & -0,457349 & -0,663696 & -0,596203 & -0,629390 & -0,639465 & -0,675661 & -0,632411 & -0,703621 & -0,634474 & -0,628881 & -0,670857 \\\\\n",
      "\\end{tabular}\n"
     ]
    },
    {
     "data": {
      "text/plain": "Číslo pacienta                     1      2      3      4      5      6   \\\nGradientní sestup              -0.643 -0.456 -0.655 -0.545 -0.622 -0.642   \nGradientní sestup se zl. řezem -0.644 -0.456 -0.663 -0.555 -0.629 -0.645   \nBFGS s omezenou pamětí         -0.642 -0.457 -0.664 -0.596 -0.629 -0.639   \n\nČíslo pacienta                     7      8      9      10     11     12  \nGradientní sestup              -0.669 -0.625 -0.694 -0.626 -0.619 -0.662  \nGradientní sestup se zl. řezem -0.676 -0.632 -0.703 -0.632 -0.624 -0.670  \nBFGS s omezenou pamětí         -0.676 -0.632 -0.704 -0.634 -0.629 -0.671  ",
      "text/html": "<div>\n<style scoped>\n    .dataframe tbody tr th:only-of-type {\n        vertical-align: middle;\n    }\n\n    .dataframe tbody tr th {\n        vertical-align: top;\n    }\n\n    .dataframe thead th {\n        text-align: right;\n    }\n</style>\n<table border=\"1\" class=\"dataframe\">\n  <thead>\n    <tr style=\"text-align: right;\">\n      <th>Číslo pacienta</th>\n      <th>1</th>\n      <th>2</th>\n      <th>3</th>\n      <th>4</th>\n      <th>5</th>\n      <th>6</th>\n      <th>7</th>\n      <th>8</th>\n      <th>9</th>\n      <th>10</th>\n      <th>11</th>\n      <th>12</th>\n    </tr>\n  </thead>\n  <tbody>\n    <tr>\n      <th>Gradientní sestup</th>\n      <td>-0.643</td>\n      <td>-0.456</td>\n      <td>-0.655</td>\n      <td>-0.545</td>\n      <td>-0.622</td>\n      <td>-0.642</td>\n      <td>-0.669</td>\n      <td>-0.625</td>\n      <td>-0.694</td>\n      <td>-0.626</td>\n      <td>-0.619</td>\n      <td>-0.662</td>\n    </tr>\n    <tr>\n      <th>Gradientní sestup se zl. řezem</th>\n      <td>-0.644</td>\n      <td>-0.456</td>\n      <td>-0.663</td>\n      <td>-0.555</td>\n      <td>-0.629</td>\n      <td>-0.645</td>\n      <td>-0.676</td>\n      <td>-0.632</td>\n      <td>-0.703</td>\n      <td>-0.632</td>\n      <td>-0.624</td>\n      <td>-0.670</td>\n    </tr>\n    <tr>\n      <th>BFGS s omezenou pamětí</th>\n      <td>-0.642</td>\n      <td>-0.457</td>\n      <td>-0.664</td>\n      <td>-0.596</td>\n      <td>-0.629</td>\n      <td>-0.639</td>\n      <td>-0.676</td>\n      <td>-0.632</td>\n      <td>-0.704</td>\n      <td>-0.634</td>\n      <td>-0.629</td>\n      <td>-0.671</td>\n    </tr>\n  </tbody>\n</table>\n</div>"
     },
     "execution_count": 9,
     "metadata": {},
     "output_type": "execute_result"
    }
   ],
   "source": [
    "initialLastMetricsDf = pd.DataFrame(lastIterMetrics, columns=pd.Index(regLabels[2:]),\n",
    "                                    index=pd.Index(range(1, lastIterMetrics.shape[0] + 1), name=\"Číslo pacienta\"))\n",
    "print(initialLastMetricsDf.T.style.to_latex())\n",
    "initialLastMetricsDf.T"
   ],
   "metadata": {
    "collapsed": false,
    "ExecuteTime": {
     "end_time": "2024-04-07T14:28:25.604701600Z",
     "start_time": "2024-04-07T14:28:25.570675500Z"
    }
   },
   "id": "6db8c260dc9bf765"
  },
  {
   "cell_type": "code",
   "execution_count": 10,
   "outputs": [
    {
     "name": "stdout",
     "output_type": "stream",
     "text": [
      "\\begin{tabular}{lrrrrrrrrrrrr}\n",
      "Číslo pacienta & 1 & 2 & 3 & 4 & 5 & 6 & 7 & 8 & 9 & 10 & 11 & 12 \\\\\n",
      "Gradientní sestup & 1,528435 & 2,108209 & 1,139139 & 1,635712 & 1,042700 & 1,205097 & 0,888419 & 0,794628 & 1,119246 & 1,018626 & 1,464743 & 1,012578 \\\\\n",
      "Gradientní sestup se zl. řezem & 3,237116 & 4,081288 & 4,218160 & 5,560802 & 3,810409 & 5,533082 & 1,961808 & 2,310031 & 1,594754 & 4,320487 & 7,273673 & 2,060762 \\\\\n",
      "BFGS s omezenou pamětí & 7,397465 & 7,425741 & 6,855642 & 7,320143 & 7,488316 & 5,513113 & 6,358583 & 6,385045 & 4,361580 & 6,437549 & 5,153826 & 4,784387 \\\\\n",
      "\\end{tabular}\n"
     ]
    },
    {
     "data": {
      "text/plain": "Číslo pacienta                     1      2      3      4      5      6   \\\nGradientní sestup               1.528  2.108  1.139  1.636  1.043  1.205   \nGradientní sestup se zl. řezem  3.237  4.081  4.218  5.561  3.810  5.533   \nBFGS s omezenou pamětí          7.397  7.426  6.856  7.320  7.488  5.513   \n\nČíslo pacienta                     7      8      9      10     11     12  \nGradientní sestup               0.888  0.795  1.119  1.019  1.465  1.013  \nGradientní sestup se zl. řezem  1.962  2.310  1.595  4.320  7.274  2.061  \nBFGS s omezenou pamětí          6.359  6.385  4.362  6.438  5.154  4.784  ",
      "text/html": "<div>\n<style scoped>\n    .dataframe tbody tr th:only-of-type {\n        vertical-align: middle;\n    }\n\n    .dataframe tbody tr th {\n        vertical-align: top;\n    }\n\n    .dataframe thead th {\n        text-align: right;\n    }\n</style>\n<table border=\"1\" class=\"dataframe\">\n  <thead>\n    <tr style=\"text-align: right;\">\n      <th>Číslo pacienta</th>\n      <th>1</th>\n      <th>2</th>\n      <th>3</th>\n      <th>4</th>\n      <th>5</th>\n      <th>6</th>\n      <th>7</th>\n      <th>8</th>\n      <th>9</th>\n      <th>10</th>\n      <th>11</th>\n      <th>12</th>\n    </tr>\n  </thead>\n  <tbody>\n    <tr>\n      <th>Gradientní sestup</th>\n      <td>1.528</td>\n      <td>2.108</td>\n      <td>1.139</td>\n      <td>1.636</td>\n      <td>1.043</td>\n      <td>1.205</td>\n      <td>0.888</td>\n      <td>0.795</td>\n      <td>1.119</td>\n      <td>1.019</td>\n      <td>1.465</td>\n      <td>1.013</td>\n    </tr>\n    <tr>\n      <th>Gradientní sestup se zl. řezem</th>\n      <td>3.237</td>\n      <td>4.081</td>\n      <td>4.218</td>\n      <td>5.561</td>\n      <td>3.810</td>\n      <td>5.533</td>\n      <td>1.962</td>\n      <td>2.310</td>\n      <td>1.595</td>\n      <td>4.320</td>\n      <td>7.274</td>\n      <td>2.061</td>\n    </tr>\n    <tr>\n      <th>BFGS s omezenou pamětí</th>\n      <td>7.397</td>\n      <td>7.426</td>\n      <td>6.856</td>\n      <td>7.320</td>\n      <td>7.488</td>\n      <td>5.513</td>\n      <td>6.359</td>\n      <td>6.385</td>\n      <td>4.362</td>\n      <td>6.438</td>\n      <td>5.154</td>\n      <td>4.784</td>\n    </tr>\n  </tbody>\n</table>\n</div>"
     },
     "execution_count": 10,
     "metadata": {},
     "output_type": "execute_result"
    }
   ],
   "source": [
    "runTimeDf = pd.DataFrame(runTime, columns=pd.Index(regLabels[2:]), \n",
    "                         index=pd.Index(range(1, runTime.shape[0] + 1), name=\"Číslo pacienta\"))\n",
    "print(runTimeDf.T.style.to_latex())\n",
    "runTimeDf.T"
   ],
   "metadata": {
    "collapsed": false,
    "ExecuteTime": {
     "end_time": "2024-04-07T14:28:26.543318800Z",
     "start_time": "2024-04-07T14:28:26.510067700Z"
    }
   },
   "id": "62f360ebbf18d239"
  },
  {
   "cell_type": "code",
   "execution_count": 12,
   "outputs": [],
   "source": [
    "with pd.ExcelWriter(\"graficke_vystupy\\\\vystupy_registrace.xlsx\") as excel_writer:\n",
    "    initialLastmedianErrorsDf.to_excel(excel_writer, sheet_name=\"median_mezibodove_vzdalenosti\",\n",
    "                                       float_format=\"%.3f\",\n",
    "                                       columns=initialLastmedianErrorsDf.columns)\n",
    "    \n",
    "    runTimeDf.to_excel(excel_writer, sheet_name=\"vypocetni_doba\",\n",
    "                       float_format=\"%.3f\", \n",
    "                       columns=runTimeDf.columns)\n",
    "    \n",
    "    initialLastMetricsDf.to_excel(excel_writer, sheet_name=\"vzajemna_informace\",\n",
    "                                  float_format=\"%.3f\",\n",
    "                                  columns=initialLastMetricsDf.columns)"
   ],
   "metadata": {
    "collapsed": false,
    "ExecuteTime": {
     "end_time": "2024-04-07T14:32:48.573781500Z",
     "start_time": "2024-04-07T14:32:48.537304100Z"
    }
   },
   "id": "a2bdcf5eff192090"
  },
  {
   "cell_type": "code",
   "execution_count": null,
   "outputs": [],
   "source": [],
   "metadata": {
    "collapsed": false
   },
   "id": "7f464d8f83f0084"
  }
 ],
 "metadata": {
  "kernelspec": {
   "display_name": "Python 3",
   "language": "python",
   "name": "python3"
  },
  "language_info": {
   "codemirror_mode": {
    "name": "ipython",
    "version": 2
   },
   "file_extension": ".py",
   "mimetype": "text/x-python",
   "name": "python",
   "nbconvert_exporter": "python",
   "pygments_lexer": "ipython2",
   "version": "2.7.6"
  }
 },
 "nbformat": 4,
 "nbformat_minor": 5
}
