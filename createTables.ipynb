{
 "cells": [
  {
   "cell_type": "code",
   "execution_count": 1,
   "id": "initial_id",
   "metadata": {
    "collapsed": true,
    "ExecuteTime": {
     "end_time": "2024-04-06T13:50:00.219112500Z",
     "start_time": "2024-04-06T13:49:59.675662800Z"
    }
   },
   "outputs": [],
   "source": [
    "import numpy as np\n",
    "import os\n",
    "import pandas as pd"
   ]
  },
  {
   "cell_type": "code",
   "execution_count": 38,
   "outputs": [],
   "source": [
    "saveState = False\n",
    "patNumbers = [\"01\", \"02\", \"03\", \"04\", \"05\", \"06\", \"07\", \"08\", \"09\", \"10\", \"11\", \"12\"]\n",
    "pd.set_option(\"display.precision\", 3, \"styler.format.decimal\", \",\")\n",
    "\n",
    "# pointErrors = np.zeros(shape=(12, 5, 10)) # shape=(patients, reg_stages, distances)\n",
    "medianErrorsStages = np.zeros(shape=(12, 5)) # shape=(patients, reg_stages)\n",
    "# preInitialMedians = np.zeros(shape=(12, 2, 10))\n",
    "# lastIterMediands = np.zeros(shape=(12, 3, 10))\n",
    "# initialLastmedianErrors = np.zeros(shape=(12, 5))\n",
    "runTime = np.zeros(shape=(12, 3))\n",
    "lastIterMetrics = np.zeros(shape=(12, 3))\n",
    "\n",
    "for idx, num in enumerate(patNumbers):\n",
    "    errorPath = f\"input_files\\\\pacient_{num}\\\\registration\\\\\"\n",
    "\n",
    "    preFile = np.load(f\"{errorPath}gradient\\\\pacient{num}PreErrors.npz\")\n",
    "    initialFile = np.load(f\"{errorPath}gradient\\\\pacient{num}InitialErrors.npz\")\n",
    "    gradFile = np.load(f\"{errorPath}gradient\\\\pacient{num}RegErrors.npz\")\n",
    "    gradLineFile = np.load(f\"{errorPath}gradientline\\\\pacient{num}RegErrors.npz\")\n",
    "    gradLbfFile = np.load(f\"{errorPath}gradientlbf\\\\pacient{num}RegErrors.npz\")\n",
    "    \n",
    "    gradRegFile = np.load(f\"{errorPath}gradient\\\\pacient{num}RegParams.npz\")\n",
    "    gradLineRegFile = np.load(f\"{errorPath}gradientline\\\\pacient{num}RegParams.npz\")\n",
    "    gradLbfRegFile = np.load(f\"{errorPath}gradientlbf\\\\pacient{num}RegParams.npz\")\n",
    "    # pointErrors[idx, 0, :] = preFile[\"preErrors\"]\n",
    "    # pointErrors[idx, 1, :] = initialFile[\"initialErrors\"]\n",
    "    # pointErrors[idx, 2, :] = gradFile[\"regErrors\"][-1, :]\n",
    "    # pointErrors[idx, 3, :] = gradLineFile[\"regErrors\"][-1, :]\n",
    "    # pointErrors[idx, 4, :] = gradLbfFile[\"regErrors\"][-1, :]\n",
    "\n",
    "    # median errors per patient and registration stage\n",
    "    medianErrorsStages[idx, 0] = preFile[\"preMedians\"] # before initialization\n",
    "    medianErrorsStages[idx, 1] = initialFile[\"initialMedians\"] # after initialization\n",
    "    medianErrorsStages[idx, 2] = gradFile[\"regMedians\"][-1] # gradient \n",
    "    medianErrorsStages[idx, 3] = gradLineFile[\"regMedians\"][-1] # gradient line \n",
    "    medianErrorsStages[idx, 4] = gradLbfFile[\"regMedians\"][-1] # lbfgs\n",
    "    \n",
    "    lastIterMetrics[idx, 0] = gradRegFile[\"metricValues\"][-1]\n",
    "    lastIterMetrics[idx, 1] = gradLineRegFile[\"metricValues\"][-1]\n",
    "    lastIterMetrics[idx, 2] = gradLbfRegFile[\"metricValues\"][-1]\n",
    "    \n",
    "    runTime[idx, 0] = gradRegFile[\"execTime\"]\n",
    "    runTime[idx, 1] = gradLineRegFile[\"execTime\"]\n",
    "    runTime[idx, 2] = gradLbfRegFile[\"execTime\"]\n",
    "    \n",
    "    del(preFile, initialFile, gradFile, gradLineFile, gradLbfFile, gradRegFile,\n",
    "        gradLineRegFile, gradLbfRegFile)\n",
    "    \n",
    "\n",
    "regStages = [\"Před inicializací\", \"Po inicializaci\", \"Gradientní\\nsestup\", \n",
    "             \"Gradientní sestup\\nse zl. řezem\", \"BFGS s\\nomezenou pamětí\"]\n",
    "regCols = [\"pre\", \"initial\", \"grad\", \n",
    "             \"grad_line\", \"grad_lbf\"]\n",
    "regLabels = [\"Před inicializací\", \"Po inicializaci\", \"Gradientní sestup\", \n",
    "             \"Gradientní sestup se zl. řezem\", \"BFGS s omezenou pamětí\"]"
   ],
   "metadata": {
    "collapsed": false,
    "ExecuteTime": {
     "end_time": "2024-04-06T14:15:40.103840400Z",
     "start_time": "2024-04-06T14:15:40.019591Z"
    }
   },
   "id": "8865a53a0dfedd20"
  },
  {
   "cell_type": "code",
   "execution_count": 54,
   "outputs": [
    {
     "name": "stdout",
     "output_type": "stream",
     "text": [
      "\\begin{tabular}{lrrrrrrrrrrrr}\n",
      "Číslo pacienta & 1 & 2 & 3 & 4 & 5 & 6 & 7 & 8 & 9 & 10 & 11 & 12 \\\\\n",
      "Před inicializací & 95,204770 & 99,369106 & 59,651445 & 77,284026 & 84,555336 & 125,291004 & 51,334492 & 25,338598 & 117,979494 & 30,762199 & 44,756299 & 115,841176 \\\\\n",
      "Po inicializaci & 102,126586 & 79,781340 & 23,645868 & 83,098711 & 20,322598 & 60,211795 & 33,765366 & 14,480076 & 62,515038 & 26,047366 & 32,823615 & 42,758684 \\\\\n",
      "Gradientní sestup & 11,128011 & 22,416605 & 6,912589 & 13,471545 & 11,880615 & 11,366609 & 5,633837 & 4,631353 & 4,237906 & 19,306719 & 22,091272 & 4,638175 \\\\\n",
      "Gradientní sestup se zl. řezem & 12,286658 & 22,286418 & 5,379593 & 12,334207 & 11,369002 & 10,927066 & 6,153505 & 6,041925 & 3,674213 & 16,737000 & 20,876263 & 4,129624 \\\\\n",
      "BFGS s omezenou pamětí & 12,918571 & 22,440662 & 5,396685 & 11,924426 & 10,999531 & 10,251254 & 6,370661 & 6,180540 & 3,577489 & 15,500227 & 21,230581 & 4,541347 \\\\\n",
      "\\end{tabular}\n"
     ]
    },
    {
     "data": {
      "text/plain": "Číslo pacienta                       1       2       3       4       5   \\\nPřed inicializací                95.205  99.369  59.651  77.284  84.555   \nPo inicializaci                 102.127  79.781  23.646  83.099  20.323   \nGradientní sestup                11.128  22.417   6.913  13.472  11.881   \nGradientní sestup se zl. řezem   12.287  22.286   5.380  12.334  11.369   \nBFGS s omezenou pamětí           12.919  22.441   5.397  11.924  11.000   \n\nČíslo pacienta                       6       7       8        9       10  \\\nPřed inicializací               125.291  51.334  25.339  117.979  30.762   \nPo inicializaci                  60.212  33.765  14.480   62.515  26.047   \nGradientní sestup                11.367   5.634   4.631    4.238  19.307   \nGradientní sestup se zl. řezem   10.927   6.154   6.042    3.674  16.737   \nBFGS s omezenou pamětí           10.251   6.371   6.181    3.577  15.500   \n\nČíslo pacienta                      11       12  \nPřed inicializací               44.756  115.841  \nPo inicializaci                 32.824   42.759  \nGradientní sestup               22.091    4.638  \nGradientní sestup se zl. řezem  20.876    4.130  \nBFGS s omezenou pamětí          21.231    4.541  ",
      "text/html": "<div>\n<style scoped>\n    .dataframe tbody tr th:only-of-type {\n        vertical-align: middle;\n    }\n\n    .dataframe tbody tr th {\n        vertical-align: top;\n    }\n\n    .dataframe thead th {\n        text-align: right;\n    }\n</style>\n<table border=\"1\" class=\"dataframe\">\n  <thead>\n    <tr style=\"text-align: right;\">\n      <th>Číslo pacienta</th>\n      <th>1</th>\n      <th>2</th>\n      <th>3</th>\n      <th>4</th>\n      <th>5</th>\n      <th>6</th>\n      <th>7</th>\n      <th>8</th>\n      <th>9</th>\n      <th>10</th>\n      <th>11</th>\n      <th>12</th>\n    </tr>\n  </thead>\n  <tbody>\n    <tr>\n      <th>Před inicializací</th>\n      <td>95.205</td>\n      <td>99.369</td>\n      <td>59.651</td>\n      <td>77.284</td>\n      <td>84.555</td>\n      <td>125.291</td>\n      <td>51.334</td>\n      <td>25.339</td>\n      <td>117.979</td>\n      <td>30.762</td>\n      <td>44.756</td>\n      <td>115.841</td>\n    </tr>\n    <tr>\n      <th>Po inicializaci</th>\n      <td>102.127</td>\n      <td>79.781</td>\n      <td>23.646</td>\n      <td>83.099</td>\n      <td>20.323</td>\n      <td>60.212</td>\n      <td>33.765</td>\n      <td>14.480</td>\n      <td>62.515</td>\n      <td>26.047</td>\n      <td>32.824</td>\n      <td>42.759</td>\n    </tr>\n    <tr>\n      <th>Gradientní sestup</th>\n      <td>11.128</td>\n      <td>22.417</td>\n      <td>6.913</td>\n      <td>13.472</td>\n      <td>11.881</td>\n      <td>11.367</td>\n      <td>5.634</td>\n      <td>4.631</td>\n      <td>4.238</td>\n      <td>19.307</td>\n      <td>22.091</td>\n      <td>4.638</td>\n    </tr>\n    <tr>\n      <th>Gradientní sestup se zl. řezem</th>\n      <td>12.287</td>\n      <td>22.286</td>\n      <td>5.380</td>\n      <td>12.334</td>\n      <td>11.369</td>\n      <td>10.927</td>\n      <td>6.154</td>\n      <td>6.042</td>\n      <td>3.674</td>\n      <td>16.737</td>\n      <td>20.876</td>\n      <td>4.130</td>\n    </tr>\n    <tr>\n      <th>BFGS s omezenou pamětí</th>\n      <td>12.919</td>\n      <td>22.441</td>\n      <td>5.397</td>\n      <td>11.924</td>\n      <td>11.000</td>\n      <td>10.251</td>\n      <td>6.371</td>\n      <td>6.181</td>\n      <td>3.577</td>\n      <td>15.500</td>\n      <td>21.231</td>\n      <td>4.541</td>\n    </tr>\n  </tbody>\n</table>\n</div>"
     },
     "execution_count": 54,
     "metadata": {},
     "output_type": "execute_result"
    }
   ],
   "source": [
    "initialLastmedianErrorsDf = pd.DataFrame(medianErrorsStages, columns=pd.Index(regLabels),\n",
    "                                       index=pd.Index(range(1, medianErrorsStages.shape[0] + 1), name=\"Číslo pacienta\"))\n",
    "print(initialLastmedianErrorsDf.T.style.to_latex())\n",
    "initialLastmedianErrorsDf.T"
   ],
   "metadata": {
    "collapsed": false,
    "ExecuteTime": {
     "end_time": "2024-04-06T14:21:18.708398200Z",
     "start_time": "2024-04-06T14:21:18.673136500Z"
    }
   },
   "id": "3ba37cf2b26f2dae"
  },
  {
   "cell_type": "code",
   "execution_count": 53,
   "outputs": [
    {
     "name": "stdout",
     "output_type": "stream",
     "text": [
      "\\begin{tabular}{lrrrrrrrrrrrr}\n",
      "Číslo pacienta & 0 & 1 & 2 & 3 & 4 & 5 & 6 & 7 & 8 & 9 & 10 & 11 \\\\\n",
      "Gradientní sestup & -0,638613 & -0,453557 & -0,654914 & -0,593322 & -0,627951 & -0,645471 & -0,670310 & -0,623142 & -0,690821 & -0,626787 & -0,629990 & -0,661599 \\\\\n",
      "Gradientní sestup se zl. řezem & -0,644408 & -0,457392 & -0,663807 & -0,594194 & -0,629535 & -0,647408 & -0,675961 & -0,632323 & -0,703719 & -0,634804 & -0,633871 & -0,670891 \\\\\n",
      "BFGS s omezenou pamětí & -0,644307 & -0,456739 & -0,657225 & -0,596790 & -0,629365 & -0,645745 & -0,675967 & -0,624496 & -0,703737 & -0,634184 & -0,633951 & -0,670570 \\\\\n",
      "\\end{tabular}\n"
     ]
    },
    {
     "data": {
      "text/plain": "Číslo pacienta                     0      1      2      3      4      5   \\\nGradientní sestup              -0.639 -0.454 -0.655 -0.593 -0.628 -0.645   \nGradientní sestup se zl. řezem -0.644 -0.457 -0.664 -0.594 -0.630 -0.647   \nBFGS s omezenou pamětí         -0.644 -0.457 -0.657 -0.597 -0.629 -0.646   \n\nČíslo pacienta                     6      7      8      9      10     11  \nGradientní sestup              -0.670 -0.623 -0.691 -0.627 -0.630 -0.662  \nGradientní sestup se zl. řezem -0.676 -0.632 -0.704 -0.635 -0.634 -0.671  \nBFGS s omezenou pamětí         -0.676 -0.624 -0.704 -0.634 -0.634 -0.671  ",
      "text/html": "<div>\n<style scoped>\n    .dataframe tbody tr th:only-of-type {\n        vertical-align: middle;\n    }\n\n    .dataframe tbody tr th {\n        vertical-align: top;\n    }\n\n    .dataframe thead th {\n        text-align: right;\n    }\n</style>\n<table border=\"1\" class=\"dataframe\">\n  <thead>\n    <tr style=\"text-align: right;\">\n      <th>Číslo pacienta</th>\n      <th>0</th>\n      <th>1</th>\n      <th>2</th>\n      <th>3</th>\n      <th>4</th>\n      <th>5</th>\n      <th>6</th>\n      <th>7</th>\n      <th>8</th>\n      <th>9</th>\n      <th>10</th>\n      <th>11</th>\n    </tr>\n  </thead>\n  <tbody>\n    <tr>\n      <th>Gradientní sestup</th>\n      <td>-0.639</td>\n      <td>-0.454</td>\n      <td>-0.655</td>\n      <td>-0.593</td>\n      <td>-0.628</td>\n      <td>-0.645</td>\n      <td>-0.670</td>\n      <td>-0.623</td>\n      <td>-0.691</td>\n      <td>-0.627</td>\n      <td>-0.630</td>\n      <td>-0.662</td>\n    </tr>\n    <tr>\n      <th>Gradientní sestup se zl. řezem</th>\n      <td>-0.644</td>\n      <td>-0.457</td>\n      <td>-0.664</td>\n      <td>-0.594</td>\n      <td>-0.630</td>\n      <td>-0.647</td>\n      <td>-0.676</td>\n      <td>-0.632</td>\n      <td>-0.704</td>\n      <td>-0.635</td>\n      <td>-0.634</td>\n      <td>-0.671</td>\n    </tr>\n    <tr>\n      <th>BFGS s omezenou pamětí</th>\n      <td>-0.644</td>\n      <td>-0.457</td>\n      <td>-0.657</td>\n      <td>-0.597</td>\n      <td>-0.629</td>\n      <td>-0.646</td>\n      <td>-0.676</td>\n      <td>-0.624</td>\n      <td>-0.704</td>\n      <td>-0.634</td>\n      <td>-0.634</td>\n      <td>-0.671</td>\n    </tr>\n  </tbody>\n</table>\n</div>"
     },
     "execution_count": 53,
     "metadata": {},
     "output_type": "execute_result"
    }
   ],
   "source": [
    "initialLastMetricsDf = pd.DataFrame(lastIterMetrics, columns=pd.Index(regLabels[2:]),\n",
    "                                    index=pd.Index(range(0, lastIterMetrics.shape[0]), name=\"Číslo pacienta\"))\n",
    "print(initialLastMetricsDf.T.style.to_latex())\n",
    "initialLastMetricsDf.T"
   ],
   "metadata": {
    "collapsed": false,
    "ExecuteTime": {
     "end_time": "2024-04-06T14:20:59.549663200Z",
     "start_time": "2024-04-06T14:20:59.456466200Z"
    }
   },
   "id": "6db8c260dc9bf765"
  },
  {
   "cell_type": "code",
   "execution_count": 51,
   "outputs": [
    {
     "name": "stdout",
     "output_type": "stream",
     "text": [
      "\\begin{tabular}{lrrrrrrrrrrrr}\n",
      "Číslo pacienta & 1 & 2 & 3 & 4 & 5 & 6 & 7 & 8 & 9 & 10 & 11 & 12 \\\\\n",
      "Gradientní sestup & 1,567274 & 1,642866 & 1,786077 & 1,800412 & 2,177751 & 1,625393 & 1,387234 & 1,520851 & 1,467951 & 2,657691 & 2,452025 & 1,557656 \\\\\n",
      "Gradientní sestup se zl. řezem & 4,869071 & 4,075866 & 5,323518 & 8,581331 & 5,901885 & 5,188971 & 4,107326 & 4,381790 & 4,544885 & 8,750057 & 8,418606 & 6,094152 \\\\\n",
      "BFGS s omezenou pamětí & 6,096101 & 4,126926 & 7,020240 & 5,620288 & 6,865702 & 6,016919 & 6,331690 & 5,360708 & 5,723022 & 7,290385 & 9,208305 & 4,714112 \\\\\n",
      "\\end{tabular}\n"
     ]
    },
    {
     "data": {
      "text/plain": "Číslo pacienta                     1      2      3      4      5      6   \\\nGradientní sestup               1.567  1.643  1.786  1.800  2.178  1.625   \nGradientní sestup se zl. řezem  4.869  4.076  5.324  8.581  5.902  5.189   \nBFGS s omezenou pamětí          6.096  4.127  7.020  5.620  6.866  6.017   \n\nČíslo pacienta                     7      8      9      10     11     12  \nGradientní sestup               1.387  1.521  1.468  2.658  2.452  1.558  \nGradientní sestup se zl. řezem  4.107  4.382  4.545  8.750  8.419  6.094  \nBFGS s omezenou pamětí          6.332  5.361  5.723  7.290  9.208  4.714  ",
      "text/html": "<div>\n<style scoped>\n    .dataframe tbody tr th:only-of-type {\n        vertical-align: middle;\n    }\n\n    .dataframe tbody tr th {\n        vertical-align: top;\n    }\n\n    .dataframe thead th {\n        text-align: right;\n    }\n</style>\n<table border=\"1\" class=\"dataframe\">\n  <thead>\n    <tr style=\"text-align: right;\">\n      <th>Číslo pacienta</th>\n      <th>1</th>\n      <th>2</th>\n      <th>3</th>\n      <th>4</th>\n      <th>5</th>\n      <th>6</th>\n      <th>7</th>\n      <th>8</th>\n      <th>9</th>\n      <th>10</th>\n      <th>11</th>\n      <th>12</th>\n    </tr>\n  </thead>\n  <tbody>\n    <tr>\n      <th>Gradientní sestup</th>\n      <td>1.567</td>\n      <td>1.643</td>\n      <td>1.786</td>\n      <td>1.800</td>\n      <td>2.178</td>\n      <td>1.625</td>\n      <td>1.387</td>\n      <td>1.521</td>\n      <td>1.468</td>\n      <td>2.658</td>\n      <td>2.452</td>\n      <td>1.558</td>\n    </tr>\n    <tr>\n      <th>Gradientní sestup se zl. řezem</th>\n      <td>4.869</td>\n      <td>4.076</td>\n      <td>5.324</td>\n      <td>8.581</td>\n      <td>5.902</td>\n      <td>5.189</td>\n      <td>4.107</td>\n      <td>4.382</td>\n      <td>4.545</td>\n      <td>8.750</td>\n      <td>8.419</td>\n      <td>6.094</td>\n    </tr>\n    <tr>\n      <th>BFGS s omezenou pamětí</th>\n      <td>6.096</td>\n      <td>4.127</td>\n      <td>7.020</td>\n      <td>5.620</td>\n      <td>6.866</td>\n      <td>6.017</td>\n      <td>6.332</td>\n      <td>5.361</td>\n      <td>5.723</td>\n      <td>7.290</td>\n      <td>9.208</td>\n      <td>4.714</td>\n    </tr>\n  </tbody>\n</table>\n</div>"
     },
     "execution_count": 51,
     "metadata": {},
     "output_type": "execute_result"
    }
   ],
   "source": [
    "runTimeDf = pd.DataFrame(runTime, columns=pd.Index(regLabels[2:]), \n",
    "                         index=pd.Index(range(1, runTime.shape[0] + 1), name=\"Číslo pacienta\"))\n",
    "print(runTimeDf.T.style.to_latex())\n",
    "runTimeDf.T"
   ],
   "metadata": {
    "collapsed": false,
    "ExecuteTime": {
     "end_time": "2024-04-06T14:20:43.443316700Z",
     "start_time": "2024-04-06T14:20:43.416113300Z"
    }
   },
   "id": "62f360ebbf18d239"
  },
  {
   "cell_type": "code",
   "execution_count": 55,
   "outputs": [],
   "source": [
    "with pd.ExcelWriter(\"graficke_vystupy\\\\vystupy_registrace.xlsx\") as excel_writer:\n",
    "    initialLastmedianErrorsDf.to_excel(excel_writer, sheet_name=\"median_mezibodove_vzdalenosti\",\n",
    "                                       float_format=\"%.3f\",\n",
    "                                       columns=initialLastmedianErrorsDf.columns)\n",
    "    \n",
    "    runTimeDf.to_excel(excel_writer, sheet_name=\"vypocetni_doba\",\n",
    "                       float_format=\"%.3f\", \n",
    "                       columns=runTimeDf.columns)\n",
    "    \n",
    "    initialLastMetricsDf.to_excel(excel_writer, sheet_name=\"vzajemna_informace\",\n",
    "                                  float_format=\"%.3f\",\n",
    "                                  columns=initialLastMetricsDf.columns)"
   ],
   "metadata": {
    "collapsed": false,
    "ExecuteTime": {
     "end_time": "2024-04-06T14:22:16.103941600Z",
     "start_time": "2024-04-06T14:22:15.158444Z"
    }
   },
   "id": "a2bdcf5eff192090"
  },
  {
   "cell_type": "code",
   "execution_count": null,
   "outputs": [],
   "source": [],
   "metadata": {
    "collapsed": false
   },
   "id": "7f464d8f83f0084"
  }
 ],
 "metadata": {
  "kernelspec": {
   "display_name": "Python 3",
   "language": "python",
   "name": "python3"
  },
  "language_info": {
   "codemirror_mode": {
    "name": "ipython",
    "version": 2
   },
   "file_extension": ".py",
   "mimetype": "text/x-python",
   "name": "python",
   "nbconvert_exporter": "python",
   "pygments_lexer": "ipython2",
   "version": "2.7.6"
  }
 },
 "nbformat": 4,
 "nbformat_minor": 5
}
