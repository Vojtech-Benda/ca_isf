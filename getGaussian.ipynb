{
 "cells": [
  {
   "cell_type": "code",
   "execution_count": 1,
   "id": "initial_id",
   "metadata": {
    "collapsed": true,
    "ExecuteTime": {
     "end_time": "2024-03-28T18:13:44.121360300Z",
     "start_time": "2024-03-28T18:13:43.032545100Z"
    }
   },
   "outputs": [],
   "source": [
    "import SimpleITK as sitk\n",
    "import matplotlib.pyplot as plt\n",
    "import numpy as np"
   ]
  },
  {
   "cell_type": "code",
   "execution_count": 3,
   "outputs": [],
   "source": [
    "images = np.load(\"input_files\\\\pacient_09\\\\registration\\\\gradient\\\\pacient09ImagesAP.npz\")\n",
    "points = np.load(\"input_files\\\\pacient_09\\\\registration\\\\gradient\\\\pacient09PointsInfoAP.npz\")\n",
    "\n",
    "movingImage = sitk.GetImageFromArray(images[\"movingImage\"])\n",
    "fixedImage = sitk.GetImageFromArray(images[\"fixedImage\"])\n",
    "\n",
    "movingPoints = points[\"movingPoints\"]\n",
    "fixedPoints = points[\"fixedPoints\"]"
   ],
   "metadata": {
    "collapsed": false,
    "ExecuteTime": {
     "end_time": "2024-03-28T18:14:02.708750500Z",
     "start_time": "2024-03-28T18:14:02.676936400Z"
    }
   },
   "id": "e904abe990de1942"
  },
  {
   "cell_type": "code",
   "execution_count": 7,
   "outputs": [],
   "source": [
    "fixedGaussImage = sitk.SmoothingRecursiveGaussian(fixedImage, 3)\n",
    "movingGaussImage = sitk.SmoothingRecursiveGaussian(movingImage, 3)\n",
    "\n",
    "fixedGaussImage = sitk.Cast(sitk.RescaleIntensity(fixedGaussImage, 0, 255), sitk.sitkUInt8)\n",
    "movingGaussImage = sitk.Cast(sitk.RescaleIntensity(movingGaussImage, 0, 255), sitk.sitkUInt8)\n",
    "\n",
    "sitk.WriteImage(fixedGaussImage, \"fixed_gauss_3.png\")\n",
    "sitk.WriteImage(movingGaussImage, \"moving_gauss_3.png\")"
   ],
   "metadata": {
    "collapsed": false,
    "ExecuteTime": {
     "end_time": "2024-03-28T18:27:30.657387900Z",
     "start_time": "2024-03-28T18:27:30.404093100Z"
    }
   },
   "id": "666df38d18f18bc9"
  },
  {
   "cell_type": "code",
   "execution_count": null,
   "outputs": [],
   "source": [],
   "metadata": {
    "collapsed": false
   },
   "id": "246f57b63698b344"
  }
 ],
 "metadata": {
  "kernelspec": {
   "display_name": "Python 3",
   "language": "python",
   "name": "python3"
  },
  "language_info": {
   "codemirror_mode": {
    "name": "ipython",
    "version": 2
   },
   "file_extension": ".py",
   "mimetype": "text/x-python",
   "name": "python",
   "nbconvert_exporter": "python",
   "pygments_lexer": "ipython2",
   "version": "2.7.6"
  }
 },
 "nbformat": 4,
 "nbformat_minor": 5
}
